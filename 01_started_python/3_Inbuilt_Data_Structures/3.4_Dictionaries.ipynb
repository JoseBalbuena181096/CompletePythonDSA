{
 "cells": [
  {
   "cell_type": "markdown",
   "id": "630061c6",
   "metadata": {},
   "source": [
    "## Dictionaries\n",
    "\n",
    "Video Outline:\n",
    "1.  Introduction to Dictionaries\n",
    "2.  Creating Dictionaries\n",
    "3.  Accessing Dictionary Elements\n",
    "4.  Modifying Dictionary Elements\n",
    "5.  Dictionary Methods\n",
    "6.  Iterating Over Dictionaries\n",
    "7.  Nested Dictionaries\n",
    "8.  Dictionary Comprehensions\n",
    "9.  Practical Examples and Common Erros\n",
    "\n",
    "### Introduction to Dictionaries\n",
    "\n",
    "Dictionaries are unordered collections of items. They store data in key-value pairs. Keys must be unique and immutable (eg. strings, numbers or tuples), while values can be of any type."
   ]
  },
  {
   "cell_type": "code",
   "execution_count": 2,
   "id": "8f27372a",
   "metadata": {},
   "outputs": [
    {
     "name": "stdout",
     "output_type": "stream",
     "text": [
      "<class 'dict'>\n"
     ]
    }
   ],
   "source": [
    "## creating dictionaries\n",
    "#  create list -> [], create tuple -> (),  create dict -> {}\n",
    "empty_dict = {}\n",
    "print(type(empty_dict))"
   ]
  },
  {
   "cell_type": "code",
   "execution_count": 3,
   "id": "8f09625c",
   "metadata": {},
   "outputs": [
    {
     "data": {
      "text/plain": [
       "{}"
      ]
     },
     "execution_count": 3,
     "metadata": {},
     "output_type": "execute_result"
    }
   ],
   "source": [
    "empty_dict = dict()\n",
    "empty_dict"
   ]
  },
  {
   "cell_type": "code",
   "execution_count": 4,
   "id": "3af19a18",
   "metadata": {},
   "outputs": [
    {
     "name": "stdout",
     "output_type": "stream",
     "text": [
      "{'name': 'Jose Balbuena', 'age': 28, 'grade': 24}\n",
      "<class 'dict'>\n"
     ]
    }
   ],
   "source": [
    "student = {\n",
    "    \"name\": \"Jose Balbuena\",\n",
    "    \"age\": 28,\n",
    "    \"grade\": 24\n",
    "}\n",
    "print(student)\n",
    "print(type(student))"
   ]
  },
  {
   "cell_type": "code",
   "execution_count": 5,
   "id": "a4eea3db",
   "metadata": {},
   "outputs": [
    {
     "name": "stdout",
     "output_type": "stream",
     "text": [
      "{'name': 'Jorge Perez', 'age': 28, 'grade': 24}\n"
     ]
    }
   ],
   "source": [
    "# Error\n",
    "student = {\n",
    "    \"name\": \"Jose Balbuena\",\n",
    "    \"age\": 28,\n",
    "    \"grade\": 24,\n",
    "    \"name\": \"Jorge Perez\"\n",
    "}\n",
    "print(student)"
   ]
  },
  {
   "cell_type": "code",
   "execution_count": 6,
   "id": "e93f1d36",
   "metadata": {},
   "outputs": [
    {
     "name": "stdout",
     "output_type": "stream",
     "text": [
      "A\n",
      "28\n",
      "A\n",
      "28\n",
      "None\n",
      "Not Available\n"
     ]
    }
   ],
   "source": [
    " # single key is always used\n",
    "student = {\n",
    "    \"name\": \"Jose Balbuena\",\n",
    "    \"age\": 28,\n",
    "    \"grade\": \"A\"\n",
    "}\n",
    "\n",
    "print(student[\"grade\"])\n",
    "print(student[\"age\"])\n",
    "\n",
    "## accessing using get() method\n",
    "print(student.get('grade'))\n",
    "print(student.get('age'))\n",
    "print(student.get('last_name'))\n",
    "print(student.get('last_name', \"Not Available\"))"
   ]
  },
  {
   "cell_type": "code",
   "execution_count": 7,
   "id": "c4c8d20e",
   "metadata": {},
   "outputs": [
    {
     "name": "stdout",
     "output_type": "stream",
     "text": [
      "{'name': 'Jose Balbuena', 'age': 28, 'grade': 'A'}\n"
     ]
    }
   ],
   "source": [
    "## Modifying Dictionary Elements\n",
    "## Dictionary are mutable, so you can add, update or delete elements\n",
    "\n",
    "print(student)"
   ]
  },
  {
   "cell_type": "code",
   "execution_count": 8,
   "id": "cce59aa6",
   "metadata": {},
   "outputs": [
    {
     "name": "stdout",
     "output_type": "stream",
     "text": [
      "{'name': 'Jose Balbuena', 'age': 33, 'grade': 'A'}\n",
      "{'name': 'Jose Balbuena', 'age': 33, 'grade': 'A', 'address': 'Mexico'}\n"
     ]
    }
   ],
   "source": [
    "student[\"age\"] = 33 ## update value for the key\n",
    "print(student)\n",
    "student[\"address\"] = \"Mexico\" ## added a new key and value\n",
    "print(student)"
   ]
  },
  {
   "cell_type": "code",
   "execution_count": 9,
   "id": "c03bc522",
   "metadata": {},
   "outputs": [
    {
     "name": "stdout",
     "output_type": "stream",
     "text": [
      "{'name': 'Jose Balbuena', 'age': 33, 'grade': 'A'}\n"
     ]
    }
   ],
   "source": [
    "## delete a key and value pair\n",
    "del student[\"address\"]\n",
    "print(student)"
   ]
  },
  {
   "cell_type": "code",
   "execution_count": 14,
   "id": "7001788d",
   "metadata": {},
   "outputs": [
    {
     "name": "stdout",
     "output_type": "stream",
     "text": [
      "dict_keys(['name', 'age', 'grade'])\n",
      "dict_values(['Jose Balbuena', 33, 'A'])\n",
      "dict_items([('name', 'Jose Balbuena'), ('age', 33), ('grade', 'A')])\n"
     ]
    }
   ],
   "source": [
    "## Dictiomary methods\n",
    "\n",
    "keys = student.keys() # get all the keys\n",
    "print(keys)\n",
    "values = student.values() # get all values\n",
    "print(values)\n",
    "\n",
    "items = student.items() ## get all key, value pairs\n",
    "print(items)"
   ]
  },
  {
   "cell_type": "code",
   "execution_count": 15,
   "id": "951b4a56",
   "metadata": {},
   "outputs": [
    {
     "name": "stdout",
     "output_type": "stream",
     "text": [
      "{'name': 'Jose Balbuena', 'age': 33, 'grade': 'A'}\n"
     ]
    }
   ],
   "source": [
    "## shallow copy\n",
    "student_copy = student\n",
    "print(student_copy)"
   ]
  },
  {
   "cell_type": "code",
   "execution_count": 16,
   "id": "146a13bc",
   "metadata": {},
   "outputs": [
    {
     "name": "stdout",
     "output_type": "stream",
     "text": [
      "{'name': 'Juanito', 'age': 33, 'grade': 'A'}\n",
      "{'name': 'Juanito', 'age': 33, 'grade': 'A'}\n"
     ]
    }
   ],
   "source": [
    "student[\"name\"] = \"Juanito\"\n",
    "print(student)\n",
    "print(student_copy)"
   ]
  },
  {
   "cell_type": "code",
   "execution_count": 17,
   "id": "7ec17afa",
   "metadata": {},
   "outputs": [
    {
     "name": "stdout",
     "output_type": "stream",
     "text": [
      "{'name': 'Juanito', 'age': 33, 'grade': 'A'}\n",
      "{'name': 'Juanito', 'age': 33, 'grade': 'A'}\n"
     ]
    }
   ],
   "source": [
    "student_copy = student.copy() ## shallow copy, this is not a referents to the same object, is a new object copy in memory\n",
    "print(student_copy)\n",
    "print(student)\n"
   ]
  },
  {
   "cell_type": "code",
   "execution_count": null,
   "id": "92e13e3f",
   "metadata": {},
   "outputs": [
    {
     "name": "stdout",
     "output_type": "stream",
     "text": [
      "{'name': 'Juanito', 'age': 33, 'grade': 'A'}\n",
      "{'name': 'Josesito', 'age': 33, 'grade': 'A'}\n"
     ]
    }
   ],
   "source": [
    "student[\"name\"] = \"Josesito\"\n",
    "print(student_copy) # both are diferent objects, no the same object\n",
    "print(student)"
   ]
  },
  {
   "cell_type": "code",
   "execution_count": 20,
   "id": "f615044b",
   "metadata": {},
   "outputs": [
    {
     "name": "stdout",
     "output_type": "stream",
     "text": [
      "name\n",
      "age\n",
      "grade\n"
     ]
    }
   ],
   "source": [
    "### Iterating over dictionaries\n",
    "## You can use loops to iterate over dictionaries, keys, values or items\n",
    "\n",
    "## Iteranting over keys\n",
    "\n",
    "for key in student.keys():\n",
    "    print(key)"
   ]
  },
  {
   "cell_type": "code",
   "execution_count": 21,
   "id": "d2de1444",
   "metadata": {},
   "outputs": [
    {
     "name": "stdout",
     "output_type": "stream",
     "text": [
      "Josesito\n",
      "33\n",
      "A\n"
     ]
    }
   ],
   "source": [
    "# Iterating over values\n",
    "for key in student.values():\n",
    "    print(key)"
   ]
  },
  {
   "cell_type": "code",
   "execution_count": 23,
   "id": "9402c4c3",
   "metadata": {},
   "outputs": [
    {
     "name": "stdout",
     "output_type": "stream",
     "text": [
      "name : Josesito\n",
      "age : 33\n",
      "grade : A\n"
     ]
    }
   ],
   "source": [
    "## Iteratinf over key value pairs\n",
    "for key, value in student.items():\n",
    "    print(f'{key} : {value}')"
   ]
  },
  {
   "cell_type": "code",
   "execution_count": 25,
   "id": "16ea8235",
   "metadata": {},
   "outputs": [
    {
     "name": "stdout",
     "output_type": "stream",
     "text": [
      "{'student1': {'name': 'Jose Balbuena', 'age': 28}, 'student2': {'name': 'Juanito Lopez', 'age': 22}}\n"
     ]
    }
   ],
   "source": [
    "## Nested dictionaries\n",
    "\n",
    "# A dictionarie into a dictionarie\n",
    "students = {\n",
    "    \"student1\": {\n",
    "        \"name\": \"Jose Balbuena\",\n",
    "        \"age\": 28\n",
    "    },\n",
    "    \"student2\":{\n",
    "        \"name\": \"Juanito Lopez\",\n",
    "        \"age\": 22\n",
    "    }\n",
    "}\n",
    "\n",
    "print(students)"
   ]
  },
  {
   "cell_type": "code",
   "execution_count": 27,
   "id": "ba6dfc49",
   "metadata": {},
   "outputs": [
    {
     "name": "stdout",
     "output_type": "stream",
     "text": [
      "Jose Balbuena\n",
      "22\n"
     ]
    }
   ],
   "source": [
    "## Acces nested diccionaries elements\n",
    "print(students[\"student1\"][\"name\"])\n",
    "print(students[\"student2\"][\"age\"])\n"
   ]
  },
  {
   "cell_type": "code",
   "execution_count": 29,
   "id": "75b1fad1",
   "metadata": {},
   "outputs": [
    {
     "name": "stdout",
     "output_type": "stream",
     "text": [
      "student1 : info {'name': 'Jose Balbuena', 'age': 28}\n",
      "Property name : Jose Balbuena\n",
      "Property age : 28\n",
      "student2 : info {'name': 'Juanito Lopez', 'age': 22}\n",
      "Property name : Juanito Lopez\n",
      "Property age : 22\n"
     ]
    }
   ],
   "source": [
    "## Iterating over nested dictionaries\n",
    "for student_id, student_info in students.items():\n",
    "    print(f'{student_id} : info {student_info}')\n",
    "    for property, value in student_info.items():\n",
    "        print(f'Property {property} : {value}') "
   ]
  },
  {
   "cell_type": "code",
   "execution_count": 30,
   "id": "02497cf7",
   "metadata": {},
   "outputs": [
    {
     "name": "stdout",
     "output_type": "stream",
     "text": [
      "{0: 0, 1: 1, 2: 4, 3: 9, 4: 16}\n"
     ]
    }
   ],
   "source": [
    "## Dictionary comphrehension\n",
    "squares = {  x : x**2 for x in range(5) }\n",
    "print(squares)"
   ]
  },
  {
   "cell_type": "code",
   "execution_count": 31,
   "id": "f870c805",
   "metadata": {},
   "outputs": [
    {
     "name": "stdout",
     "output_type": "stream",
     "text": [
      "{0: 0, 2: 4, 4: 16, 6: 36, 8: 64}\n"
     ]
    }
   ],
   "source": [
    "# Conditional dicionary comprehension\n",
    "evens = { i : i**2 for i in range(10) if i %2 == 0} # squares of only even numbers\n",
    "print(evens)\n"
   ]
  },
  {
   "cell_type": "code",
   "execution_count": 37,
   "id": "152e6553",
   "metadata": {},
   "outputs": [
    {
     "name": "stdout",
     "output_type": "stream",
     "text": [
      "{1: 1, 2: 2, 3: 3, 4: 4}\n"
     ]
    }
   ],
   "source": [
    "## Practial examples\n",
    "\n",
    "## Use a dictionary to count the frecuency of elements in a list\n",
    "\n",
    "numbers = [1, 2, 2, 3, 3, 3 , 4, 4, 4, 4]\n",
    "repeat =  {}\n",
    "for number in numbers:\n",
    "    if number in repeat.keys():\n",
    "        repeat[number] += 1\n",
    "    else:\n",
    "        repeat[number] = 1\n",
    "\n",
    "print(repeat)"
   ]
  },
  {
   "cell_type": "code",
   "execution_count": 36,
   "id": "b3323ad8",
   "metadata": {},
   "outputs": [
    {
     "name": "stdout",
     "output_type": "stream",
     "text": [
      "{1: 1, 2: 2, 3: 3, 4: 4}\n"
     ]
    }
   ],
   "source": [
    "numbers = [1, 2, 2, 3, 3, 3, 4, 4, 4, 4]\n",
    "repeat = {number: numbers.count(number) for number in set(numbers)}\n",
    "print(repeat)"
   ]
  },
  {
   "cell_type": "code",
   "execution_count": 38,
   "id": "51af8e7c",
   "metadata": {},
   "outputs": [
    {
     "name": "stdout",
     "output_type": "stream",
     "text": [
      "{'a': 1, 'b': 3, 'c': 4}\n"
     ]
    }
   ],
   "source": [
    "## Merge 2 dictionaries into one\n",
    "dict1 = {\n",
    "    \"a\":1,\n",
    "    \"b\":2\n",
    "}\n",
    "dict2 = {\n",
    "    \"b\":3,\n",
    "    \"c\":4\n",
    "}\n",
    "\n",
    "merge_dict = {**dict1, **dict2}\n",
    "print(merge_dict)"
   ]
  }
 ],
 "metadata": {
  "kernelspec": {
   "display_name": "venv",
   "language": "python",
   "name": "python3"
  },
  "language_info": {
   "codemirror_mode": {
    "name": "ipython",
    "version": 3
   },
   "file_extension": ".py",
   "mimetype": "text/x-python",
   "name": "python",
   "nbconvert_exporter": "python",
   "pygments_lexer": "ipython3",
   "version": "3.10.18"
  }
 },
 "nbformat": 4,
 "nbformat_minor": 5
}
