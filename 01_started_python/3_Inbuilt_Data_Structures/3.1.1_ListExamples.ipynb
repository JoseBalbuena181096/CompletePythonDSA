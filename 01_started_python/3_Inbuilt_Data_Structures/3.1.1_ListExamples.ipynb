{
 "cells": [
  {
   "cell_type": "markdown",
   "id": "68be6531",
   "metadata": {},
   "source": [
    "## Real-World Examples using List in Python\n",
    "\n",
    "List are one of the most commonly used data structures in Python, thanks to their versatility and ease of use. Here are several practical exmples tha illustrate their use in real-word scenarios.\n",
    "\n",
    "### Example 1. Manage A to Do List\n",
    "-   Create to Do List to keep of tasks"
   ]
  },
  {
   "cell_type": "code",
   "execution_count": 2,
   "id": "24b53205",
   "metadata": {},
   "outputs": [
    {
     "name": "stdout",
     "output_type": "stream",
     "text": [
      "Don´t forget to pay the utility bills\n",
      "To Do List remaining\n",
      "Task Buy Groceries\n",
      "Task Pay bills\n",
      "Task Schedule meeting\n",
      "Task Go for a run\n"
     ]
    }
   ],
   "source": [
    "to_do_list = [\"Buy Groceries\", \"Clean the house\", \"Pay bills\"]\n",
    "\n",
    "## Adding to task\n",
    "to_do_list.append(\"Schedule meeting\")\n",
    "to_do_list.append(\"Go for a run\")\n",
    "\n",
    "\n",
    "## Removing a completed task\n",
    "to_do_list.remove(\"Clean the house\") \n",
    "\n",
    "## Checking if a task is the list\n",
    "if \"Pay bills\" in to_do_list:\n",
    "    print(\"Don´t forget to pay the utility bills\")\n",
    "print(\"To Do List remaining\")\n",
    "\n",
    "for task in to_do_list:\n",
    "    print(f'Task {task}')\n"
   ]
  },
  {
   "cell_type": "markdown",
   "id": "3371de31",
   "metadata": {},
   "source": [
    "## Example 2: Organizing Student Grades\n",
    "\n",
    "-   Create a list to store and calculate average grades for students"
   ]
  },
  {
   "cell_type": "code",
   "execution_count": 5,
   "id": "89278b13",
   "metadata": {},
   "outputs": [
    {
     "name": "stdout",
     "output_type": "stream",
     "text": [
      "Average grade: 88.00\n",
      "Highest Grade: 95\n",
      "Lowest Grade: 78\n"
     ]
    }
   ],
   "source": [
    "# Organizing student grades\n",
    "grades = [85, 92, 78, 90, 88]\n",
    "\n",
    "# Adding a new grade\n",
    "grades.append(95)\n",
    "\n",
    "# Calculating the average grade\n",
    "average_grade = sum(grades) / len(grades)\n",
    "print(f\"Average grade: {average_grade:.2f}\")\n",
    "\n",
    "# Finding the highest and lowest grades\n",
    "highest_grade = max(grades)\n",
    "lowest_grade = min(grades)\n",
    "\n",
    "print(f\"Highest Grade: {highest_grade}\")\n",
    "print(f\"Lowest Grade: {lowest_grade}\")"
   ]
  },
  {
   "cell_type": "code",
   "execution_count": 6,
   "id": "765103f7",
   "metadata": {},
   "outputs": [
    {
     "name": "stdout",
     "output_type": "stream",
     "text": [
      "oranges are in stock.\n",
      "apples in stock\n",
      "oranges in stock\n",
      "grapes in stock\n",
      "strawberries in stock\n"
     ]
    }
   ],
   "source": [
    "# Managing an inventory\n",
    "inventory = [\"apples\", \"bananas\", \"oranges\", \"grapes\"]\n",
    "\n",
    "# Adding a new item\n",
    "inventory.append(\"strawberries\")\n",
    "\n",
    "# Removing an item that is out of stock\n",
    "inventory.remove(\"bananas\")\n",
    "\n",
    "# Checking if an item is in stock\n",
    "item = \"oranges\"\n",
    "if item in inventory:\n",
    "    print(f\"{item} are in stock.\")\n",
    "else:\n",
    "    print(f\"{item} are out of stock.\")\n",
    "\n",
    "# Printing the inventory\n",
    "for item in inventory:\n",
    "    print(f'{item} in stock')"
   ]
  },
  {
   "cell_type": "markdown",
   "id": "1e1b2578",
   "metadata": {},
   "source": [
    "## Example 4: Collecting user feedback\n",
    "-   Use a list to collect and analyze user feedback"
   ]
  },
  {
   "cell_type": "code",
   "execution_count": 8,
   "id": "93cdd647",
   "metadata": {},
   "outputs": [
    {
     "name": "stdout",
     "output_type": "stream",
     "text": [
      "Positive feedback count: 2\n",
      "User feedback\n",
      "- Great service!\n",
      "- Very satisfied\n",
      "- Could be better\n",
      "- Excellent experience\n",
      "- Not happy with the service\n"
     ]
    }
   ],
   "source": [
    "# Collecting user feedback\n",
    "\n",
    "feedback = [\"Great service!\", \"Very satisfied\", \"Could be better\", \"Excellent experience\"]\n",
    "\n",
    "## Adding new feedback\n",
    "feedback.append(\"Not happy with the service\")\n",
    "\n",
    "## Counting specific feedback\n",
    "positive_feedback_count = sum(1 for comment in feedback if \"great\" in comment.lower() or \"excellent\" in comment.lower())\n",
    "print(f\"Positive feedback count: {positive_feedback_count}\")\n",
    "\n",
    "## Printing all feedback\n",
    "print(\"User feedback\")\n",
    "for comment in feedback:\n",
    "    print(f'- {comment}')"
   ]
  }
 ],
 "metadata": {
  "kernelspec": {
   "display_name": "venv",
   "language": "python",
   "name": "python3"
  },
  "language_info": {
   "codemirror_mode": {
    "name": "ipython",
    "version": 3
   },
   "file_extension": ".py",
   "mimetype": "text/x-python",
   "name": "python",
   "nbconvert_exporter": "python",
   "pygments_lexer": "ipython3",
   "version": "3.10.18"
  }
 },
 "nbformat": 4,
 "nbformat_minor": 5
}
