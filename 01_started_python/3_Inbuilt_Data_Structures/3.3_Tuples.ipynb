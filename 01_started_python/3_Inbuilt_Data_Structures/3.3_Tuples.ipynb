{
 "cells": [
  {
   "cell_type": "markdown",
   "id": "5b46503f",
   "metadata": {},
   "source": [
    "## Tuples\n",
    "\n",
    "Outline:\n",
    "1.  Introduction to Tuples\n",
    "2.  Creating Tuples\n",
    "3.  Accessing Tuple Elements\n",
    "4.  Tuple Operations\n",
    "5.  Immutable Nature of Tuple\n",
    "6.  Tuple Methods\n",
    "7.  Packing and Unpacking tuples\n",
    "8.  Nested tuples\n",
    "9.  Practical examples and common errors\n",
    "\n",
    "## Introduction to tuples\n",
    "Explanation:\n",
    "Tuples are ordered collections of items that are immutable. They are similar to list, but their immutability makes them different. \n"
   ]
  },
  {
   "cell_type": "code",
   "execution_count": 2,
   "id": "503554f4",
   "metadata": {},
   "outputs": [
    {
     "name": "stdout",
     "output_type": "stream",
     "text": [
      "()\n",
      "<class 'tuple'>\n"
     ]
    }
   ],
   "source": [
    "## Creating a tuple \n",
    "empty_tuple = ()\n",
    "print(empty_tuple)\n",
    "print(type(empty_tuple))"
   ]
  },
  {
   "cell_type": "code",
   "execution_count": 4,
   "id": "30be37f8",
   "metadata": {},
   "outputs": [
    {
     "name": "stdout",
     "output_type": "stream",
     "text": [
      "<class 'list'>\n",
      "()\n"
     ]
    }
   ],
   "source": [
    "lst = list()\n",
    "print(type(lst))\n",
    "tpl = tuple()\n",
    "print(tpl)"
   ]
  },
  {
   "cell_type": "code",
   "execution_count": 6,
   "id": "e683dbfe",
   "metadata": {},
   "outputs": [
    {
     "name": "stdout",
     "output_type": "stream",
     "text": [
      "(1, 2, 3, 4, 5, 6)\n",
      "<class 'tuple'>\n"
     ]
    }
   ],
   "source": [
    "numbers = tuple([1,2,3,4,5,6])\n",
    "print(numbers)\n",
    "print(type(numbers))"
   ]
  },
  {
   "cell_type": "code",
   "execution_count": null,
   "id": "ad12d47b",
   "metadata": {},
   "outputs": [
    {
     "name": "stdout",
     "output_type": "stream",
     "text": [
      "<class 'list'>\n"
     ]
    }
   ],
   "source": [
    "lista = list((1,2,3,4,5,6)) ## Convert a tuple to list\n",
    "print(type(lista))"
   ]
  },
  {
   "cell_type": "code",
   "execution_count": 8,
   "id": "e0bd9cad",
   "metadata": {},
   "outputs": [
    {
     "name": "stdout",
     "output_type": "stream",
     "text": [
      "(1, 'Hello word', 3.14, True)\n"
     ]
    }
   ],
   "source": [
    "mixed_tuple = (1, \"Hello word\", 3.14, True)\n",
    "print(mixed_tuple)"
   ]
  },
  {
   "cell_type": "code",
   "execution_count": 10,
   "id": "f6a19102",
   "metadata": {},
   "outputs": [
    {
     "name": "stdout",
     "output_type": "stream",
     "text": [
      "Hello word\n"
     ]
    }
   ],
   "source": [
    "## Accessing tuple elements\n",
    "string = mixed_tuple[1]\n",
    "print(string)"
   ]
  },
  {
   "cell_type": "code",
   "execution_count": 11,
   "id": "ea53670c",
   "metadata": {},
   "outputs": [
    {
     "name": "stdout",
     "output_type": "stream",
     "text": [
      "1\n",
      "True\n"
     ]
    }
   ],
   "source": [
    "## Access the first element and last element\n",
    "print(mixed_tuple[0])\n",
    "print(mixed_tuple[-1])\n"
   ]
  },
  {
   "cell_type": "code",
   "execution_count": 12,
   "id": "11e976c1",
   "metadata": {},
   "outputs": [
    {
     "data": {
      "text/plain": [
       "(2, 3)"
      ]
     },
     "execution_count": 12,
     "metadata": {},
     "output_type": "execute_result"
    }
   ],
   "source": [
    "# slicing tuple\n",
    "numbers[1:3]"
   ]
  },
  {
   "cell_type": "code",
   "execution_count": 13,
   "id": "9263f1b1",
   "metadata": {},
   "outputs": [
    {
     "data": {
      "text/plain": [
       "(6, 5, 4, 3, 2, 1)"
      ]
     },
     "execution_count": 13,
     "metadata": {},
     "output_type": "execute_result"
    }
   ],
   "source": [
    "# reversing numbers with slicing\n",
    "numbers[::-1]"
   ]
  },
  {
   "cell_type": "code",
   "execution_count": 15,
   "id": "44b6fb5b",
   "metadata": {},
   "outputs": [
    {
     "name": "stdout",
     "output_type": "stream",
     "text": [
      "(1, 2, 3, 4, 5, 6, 1, 'Hello word', 3.14, True)\n"
     ]
    }
   ],
   "source": [
    "## Tuple Operations, concatenation two tuples\n",
    "concatenation = numbers + mixed_tuple\n",
    "print(concatenation)"
   ]
  },
  {
   "cell_type": "code",
   "execution_count": 16,
   "id": "0a31b83b",
   "metadata": {},
   "outputs": [
    {
     "data": {
      "text/plain": [
       "(1,\n",
       " 'Hello word',\n",
       " 3.14,\n",
       " True,\n",
       " 1,\n",
       " 'Hello word',\n",
       " 3.14,\n",
       " True,\n",
       " 1,\n",
       " 'Hello word',\n",
       " 3.14,\n",
       " True)"
      ]
     },
     "execution_count": 16,
     "metadata": {},
     "output_type": "execute_result"
    }
   ],
   "source": [
    "mixed_tuple * 3"
   ]
  },
  {
   "cell_type": "code",
   "execution_count": 17,
   "id": "963d5530",
   "metadata": {},
   "outputs": [
    {
     "data": {
      "text/plain": [
       "(1, 2, 3, 4, 5, 6, 1, 2, 3, 4, 5, 6, 1, 2, 3, 4, 5, 6)"
      ]
     },
     "execution_count": 17,
     "metadata": {},
     "output_type": "execute_result"
    }
   ],
   "source": [
    "numbers * 3"
   ]
  },
  {
   "cell_type": "code",
   "execution_count": 18,
   "id": "6add8eb1",
   "metadata": {},
   "outputs": [
    {
     "name": "stdout",
     "output_type": "stream",
     "text": [
      "[1, 2, 3, 4, 5]\n"
     ]
    }
   ],
   "source": [
    "## Immutable nature of tuples\n",
    "## Tuples are immutable, meaning their elements cannot be changed once assigned.add()\n",
    "\n",
    "lst = [1,2,3,4,5]\n",
    "print(lst)\n"
   ]
  },
  {
   "cell_type": "code",
   "execution_count": 19,
   "id": "890b0af0",
   "metadata": {},
   "outputs": [
    {
     "name": "stdout",
     "output_type": "stream",
     "text": [
      "[1, 'jose', 3, 4, 5]\n"
     ]
    }
   ],
   "source": [
    "lst[1] = \"jose\"\n",
    "print(lst)"
   ]
  },
  {
   "cell_type": "code",
   "execution_count": 21,
   "id": "7ea55873",
   "metadata": {},
   "outputs": [
    {
     "name": "stdout",
     "output_type": "stream",
     "text": [
      "(1, 2, 3, 4, 5, 6)\n",
      "2\n"
     ]
    }
   ],
   "source": [
    "print(numbers)\n",
    "print(numbers[1])"
   ]
  },
  {
   "cell_type": "code",
   "execution_count": 22,
   "id": "315190a9",
   "metadata": {},
   "outputs": [
    {
     "ename": "TypeError",
     "evalue": "'tuple' object does not support item assignment",
     "output_type": "error",
     "traceback": [
      "\u001b[1;31m---------------------------------------------------------------------------\u001b[0m",
      "\u001b[1;31mTypeError\u001b[0m                                 Traceback (most recent call last)",
      "Cell \u001b[1;32mIn[22], line 1\u001b[0m\n\u001b[1;32m----> 1\u001b[0m \u001b[43mnumbers\u001b[49m\u001b[43m[\u001b[49m\u001b[38;5;241;43m1\u001b[39;49m\u001b[43m]\u001b[49m \u001b[38;5;241m=\u001b[39m \u001b[38;5;124m'\u001b[39m\u001b[38;5;124mjose\u001b[39m\u001b[38;5;124m'\u001b[39m\n",
      "\u001b[1;31mTypeError\u001b[0m: 'tuple' object does not support item assignment"
     ]
    }
   ],
   "source": [
    "numbers[1] = 'jose'"
   ]
  },
  {
   "cell_type": "code",
   "execution_count": 23,
   "id": "0ac9d686",
   "metadata": {},
   "outputs": [
    {
     "data": {
      "text/plain": [
       "(1, 2, 3, 4, 5, 6)"
      ]
     },
     "execution_count": 23,
     "metadata": {},
     "output_type": "execute_result"
    }
   ],
   "source": [
    "## Tuple methods\n",
    "numbers "
   ]
  },
  {
   "cell_type": "code",
   "execution_count": null,
   "id": "245509e3",
   "metadata": {},
   "outputs": [
    {
     "name": "stdout",
     "output_type": "stream",
     "text": [
      "1\n",
      "2\n"
     ]
    }
   ],
   "source": [
    "print(numbers.count(3)) # count the times the 3 appers\n",
    "print(numbers.index(3)) # return the first index of the value"
   ]
  },
  {
   "cell_type": "code",
   "execution_count": 26,
   "id": "d06e9780",
   "metadata": {},
   "outputs": [
    {
     "name": "stdout",
     "output_type": "stream",
     "text": [
      "(1, 'Hello', 3.14)\n"
     ]
    }
   ],
   "source": [
    "## Packing and unpaking tuple\n",
    "packed_tuple = 1, \"Hello\", 3.14\n",
    "print(packed_tuple)\n"
   ]
  },
  {
   "cell_type": "code",
   "execution_count": 27,
   "id": "ce3ef2e3",
   "metadata": {},
   "outputs": [
    {
     "name": "stdout",
     "output_type": "stream",
     "text": [
      "1\n",
      "Hello\n",
      "3.14\n"
     ]
    }
   ],
   "source": [
    "## unpacking a tuple \n",
    "a, b, c = packed_tuple\n",
    "print(a)\n",
    "print(b)\n",
    "print(c)"
   ]
  },
  {
   "cell_type": "code",
   "execution_count": 29,
   "id": "d271a60d",
   "metadata": {},
   "outputs": [
    {
     "name": "stdout",
     "output_type": "stream",
     "text": [
      "1\n",
      "[2, 3, 4, 5]\n",
      "6\n"
     ]
    }
   ],
   "source": [
    "## unpacking with *\n",
    "numbers = (1,2,3,4,5,6)\n",
    "first, *middle, last=numbers\n",
    "print(first)\n",
    "print(middle)\n",
    "print(last)"
   ]
  },
  {
   "cell_type": "code",
   "execution_count": 32,
   "id": "f23f8481",
   "metadata": {},
   "outputs": [
    {
     "name": "stdout",
     "output_type": "stream",
     "text": [
      "4\n"
     ]
    }
   ],
   "source": [
    "# Nested list\n",
    "lst = [[1,2,3,4], [6,7,8,9], [1, \"Hello\", 3.14, \"c\"]]\n",
    "print(lst[0][3])\n"
   ]
  },
  {
   "cell_type": "code",
   "execution_count": 35,
   "id": "f1f68e6e",
   "metadata": {},
   "outputs": [
    {
     "name": "stdout",
     "output_type": "stream",
     "text": [
      "(1, 2, 3, 4)\n",
      "4\n"
     ]
    }
   ],
   "source": [
    "# Nested tuple\n",
    "nested_tuple = ((1,2,3,4), (6,7,8,9), (1, \"Hello\", 3.14, \"c\"))\n",
    "\n",
    "## access the elements inside a tuple\n",
    "print(nested_tuple[0])\n",
    "print(nested_tuple[0][3])\n"
   ]
  },
  {
   "cell_type": "code",
   "execution_count": 37,
   "id": "519bf61c",
   "metadata": {},
   "outputs": [
    {
     "name": "stdout",
     "output_type": "stream",
     "text": [
      "tuple (1, 2, 3, 4): item 1\n",
      "tuple (1, 2, 3, 4): item 2\n",
      "tuple (1, 2, 3, 4): item 3\n",
      "tuple (1, 2, 3, 4): item 4\n",
      "tuple (6, 7, 8, 9): item 6\n",
      "tuple (6, 7, 8, 9): item 7\n",
      "tuple (6, 7, 8, 9): item 8\n",
      "tuple (6, 7, 8, 9): item 9\n",
      "tuple (1, 'Hello', 3.14, 'c'): item 1\n",
      "tuple (1, 'Hello', 3.14, 'c'): item Hello\n",
      "tuple (1, 'Hello', 3.14, 'c'): item 3.14\n",
      "tuple (1, 'Hello', 3.14, 'c'): item c\n"
     ]
    }
   ],
   "source": [
    "## Iterating over nested tuples\n",
    "for sub_tuple in nested_tuple:\n",
    "    for item in sub_tuple:\n",
    "        print(f'tuple {sub_tuple}: item {item}')"
   ]
  },
  {
   "cell_type": "markdown",
   "id": "1771b602",
   "metadata": {},
   "source": [
    "## Conclusion\n",
    "Tuples are versatile and useful in many real-worls scenarios where an immutable and ordered collection of items is requered. They are commonly used un data structures, function arguments are return values, and as dictionary keys. Understanding how to leverage tuples effectively can improve the efficieny and readability of your Python code."
   ]
  }
 ],
 "metadata": {
  "kernelspec": {
   "display_name": "venv",
   "language": "python",
   "name": "python3"
  },
  "language_info": {
   "codemirror_mode": {
    "name": "ipython",
    "version": 3
   },
   "file_extension": ".py",
   "mimetype": "text/x-python",
   "name": "python",
   "nbconvert_exporter": "python",
   "pygments_lexer": "ipython3",
   "version": "3.10.18"
  }
 },
 "nbformat": 4,
 "nbformat_minor": 5
}
