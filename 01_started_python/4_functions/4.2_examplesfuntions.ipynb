{
 "cells": [
  {
   "cell_type": "markdown",
   "id": "e26f1630",
   "metadata": {},
   "source": [
    "## Functions Examples\n",
    "\n",
    "### Example1:   Temperature conversion\n"
   ]
  },
  {
   "cell_type": "code",
   "execution_count": 4,
   "id": "65e52e23",
   "metadata": {},
   "outputs": [
    {
     "name": "stdout",
     "output_type": "stream",
     "text": [
      "77.0\n",
      "25.0\n"
     ]
    }
   ],
   "source": [
    "def convert_temperature(temp, units):\n",
    "    \"\"\" This function converts temperature between celcius and Fahrenheit \"\"\"\n",
    "    if units == \"C\":\n",
    "        return temp * (9/5) + 32 ## Celcius to fahrenheit\n",
    "    elif units == \"F\":\n",
    "        return (temp - 32) * (5/9) ## Fahrenheit to celsius\n",
    "    else:\n",
    "        return None\n",
    "\n",
    "print(convert_temperature(25, 'C'))\n",
    "print(convert_temperature(77, 'F'))"
   ]
  },
  {
   "cell_type": "markdown",
   "id": "7fad0207",
   "metadata": {},
   "source": [
    "### Example2:   Password Strength checker"
   ]
  },
  {
   "cell_type": "code",
   "execution_count": 7,
   "id": "a22d1698",
   "metadata": {},
   "outputs": [
    {
     "name": "stdout",
     "output_type": "stream",
     "text": [
      "True\n",
      "False\n"
     ]
    }
   ],
   "source": [
    "def is_strong_password(password):\n",
    "    \"\"\" This function checks if the password is strong or not \"\"\"\n",
    "    if len(password) < 8:\n",
    "        return False\n",
    "\n",
    "    if not any( char.isdigit()  for char in password ):\n",
    "        return False\n",
    "\n",
    "    if not any( char.islower()  for char in password ):\n",
    "        return False\n",
    "    \n",
    "    if not any( char.isupper()  for char in password ):\n",
    "        return False\n",
    "\n",
    "    if not any( char in '!@#%^&*()_+'  for char in password ):\n",
    "        return False\n",
    "    return True\n",
    "\n",
    "## calling the function\n",
    "print(is_strong_password('aglBP25#!!!!'))\n",
    "print(is_strong_password('12345'))\n",
    "\n",
    "\n"
   ]
  },
  {
   "cell_type": "markdown",
   "id": "e745d399",
   "metadata": {},
   "source": [
    "### Example3:   Calculate the total cost of items in a shopping cart"
   ]
  },
  {
   "cell_type": "code",
   "execution_count": 13,
   "id": "7fecc1a7",
   "metadata": {},
   "outputs": [
    {
     "name": "stdout",
     "output_type": "stream",
     "text": [
      "Apple is 6 the unit cost is 0.5 subtotal 3.00\n",
      "Orange is 6 the unit cost is 0.7 subtotal 4.20\n",
      "Banana is 3 the unit cost is 0.3 subtotal 0.90\n",
      "The amount is 8.10\n",
      "8.1\n"
     ]
    }
   ],
   "source": [
    "def calulate_total_cost(cart):\n",
    "    total_cost = 0\n",
    "    for item in cart:\n",
    "        sub_total = item['price'] * item['Quantity']\n",
    "        print(f'{item[\"name\"]} is {item[\"Quantity\"]} the unit cost is {item[\"price\"]} subtotal {sub_total:.2f}')\n",
    "        total_cost += sub_total\n",
    "    print(f'The amount is {total_cost:.2f}')\n",
    "    return total_cost\n",
    "\n",
    "## Example data\n",
    "\n",
    "cart = [\n",
    "    {\n",
    "        'name': 'Apple',\n",
    "        'price': 0.5,\n",
    "        'Quantity': 6\n",
    "    },\n",
    "    {\n",
    "        'name': 'Orange',\n",
    "        'price': 0.7,\n",
    "        'Quantity': 6\n",
    "    },\n",
    "    {\n",
    "        'name': 'Banana',\n",
    "        'price': 0.3,\n",
    "        'Quantity': 3\n",
    "    },\n",
    "]\n",
    "### calling the function\n",
    "total = calulate_total_cost(cart)\n",
    "print(total)"
   ]
  },
  {
   "cell_type": "markdown",
   "id": "e5a99631",
   "metadata": {},
   "source": [
    "### Example4: Check If a string is palindrome"
   ]
  },
  {
   "cell_type": "code",
   "execution_count": 15,
   "id": "bbf899af",
   "metadata": {},
   "outputs": [
    {
     "name": "stdout",
     "output_type": "stream",
     "text": [
      "True\n",
      "False\n"
     ]
    }
   ],
   "source": [
    "def is_palindrome(s):\n",
    "    s = s.lower().replace(\" \", \"\")\n",
    "    return s == s[::-1]\n",
    "\n",
    "print(is_palindrome(\"oso\"))\n",
    "print(is_palindrome(\"hello\"))"
   ]
  },
  {
   "cell_type": "markdown",
   "id": "068a2300",
   "metadata": {},
   "source": [
    "### Example5: Calculate the factorial of a number using recursion"
   ]
  },
  {
   "cell_type": "code",
   "execution_count": 17,
   "id": "1074cb7b",
   "metadata": {},
   "outputs": [
    {
     "name": "stdout",
     "output_type": "stream",
     "text": [
      "120\n",
      "5040\n"
     ]
    }
   ],
   "source": [
    "def factorial(n):\n",
    "    if n == 0:\n",
    "        return 1\n",
    "    return  n * factorial(n-1)\n",
    "\n",
    "print(factorial(5))\n",
    "print(factorial(7))\n"
   ]
  },
  {
   "cell_type": "markdown",
   "id": "5bf7094d",
   "metadata": {},
   "source": [
    "### Example 6: A function to read a file and count the frequency of each word"
   ]
  },
  {
   "cell_type": "code",
   "execution_count": 20,
   "id": "cd1187d8",
   "metadata": {},
   "outputs": [
    {
     "name": "stdout",
     "output_type": "stream",
     "text": [
      "{'hello': 1, 'word': 1, 'how': 1, 'are': 1, 'you': 1, 'my': 1, 'name': 1, 'is': 1, 'jose': 2}\n"
     ]
    }
   ],
   "source": [
    "def count_word_frequency(file_path):\n",
    "    word_count = {}\n",
    "    with open(file_path, 'r') as file:\n",
    "        for line in file:\n",
    "            words = line.split()\n",
    "            for word in words:\n",
    "                word = word.lower().strip('.,!?:\"\\'')\n",
    "                word_count[word] = word_count.get(word, 0) + 1\n",
    "    return word_count\n",
    "\n",
    "file_path = 'sample.txt'\n",
    "word_frecuency = count_word_frequency(file_path)\n",
    "print(word_frecuency)\n"
   ]
  },
  {
   "cell_type": "markdown",
   "id": "6bf52036",
   "metadata": {},
   "source": [
    "### Example 7: Validate Email address"
   ]
  },
  {
   "cell_type": "code",
   "execution_count": 22,
   "id": "727325ec",
   "metadata": {},
   "outputs": [
    {
     "name": "stdout",
     "output_type": "stream",
     "text": [
      "True\n",
      "False\n",
      "False\n"
     ]
    }
   ],
   "source": [
    "import re\n",
    "\n",
    "## Email validation function\n",
    "def is_valid_email(email):\n",
    "    \"\"\" This function check if the email is valid. \"\"\"\n",
    "    pattern = r'^[a-zA-Z0-9_.+-]+@[a-zA-Z0-9]+\\.[a-zA-Z0-9-.]+$'\n",
    "    return re.match(pattern, email) is not None\n",
    "\n",
    "## calling the function\n",
    "print(is_valid_email(\"jose@gamil.com\"))\n",
    "print(is_valid_email(\"jose-emal\"))\n",
    "print(is_valid_email(\"jose-emal@gmail\"))"
   ]
  }
 ],
 "metadata": {
  "kernelspec": {
   "display_name": "venv",
   "language": "python",
   "name": "python3"
  },
  "language_info": {
   "codemirror_mode": {
    "name": "ipython",
    "version": 3
   },
   "file_extension": ".py",
   "mimetype": "text/x-python",
   "name": "python",
   "nbconvert_exporter": "python",
   "pygments_lexer": "ipython3",
   "version": "3.10.18"
  }
 },
 "nbformat": 4,
 "nbformat_minor": 5
}
