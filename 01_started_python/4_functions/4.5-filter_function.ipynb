{
 "cells": [
  {
   "cell_type": "markdown",
   "id": "0aa3b861",
   "metadata": {},
   "source": [
    "## The filter() function in Python\n",
    "\n",
    "The filter() function constructs an iterator from elements of an iterable for which a function returns true. It is used to filter out items from a list (or any other iterable) based on a condition."
   ]
  },
  {
   "cell_type": "code",
   "execution_count": 2,
   "id": "50b6841c",
   "metadata": {},
   "outputs": [
    {
     "data": {
      "text/plain": [
       "True"
      ]
     },
     "execution_count": 2,
     "metadata": {},
     "output_type": "execute_result"
    }
   ],
   "source": [
    "def even(number):\n",
    "    return number%2 == 0\n",
    "even(24)"
   ]
  },
  {
   "cell_type": "code",
   "execution_count": 3,
   "id": "10d35ad6",
   "metadata": {},
   "outputs": [
    {
     "name": "stdout",
     "output_type": "stream",
     "text": [
      "[2, 4, 6, 8, 10, 12]\n"
     ]
    }
   ],
   "source": [
    "numbers = [1,2,3,4,5,6,7,8,9,10,11,12]\n",
    "numbers_even = list(filter(even, numbers))\n",
    "print(numbers_even)"
   ]
  },
  {
   "cell_type": "code",
   "execution_count": 5,
   "id": "728070aa",
   "metadata": {},
   "outputs": [
    {
     "name": "stdout",
     "output_type": "stream",
     "text": [
      "[6, 7, 8]\n"
     ]
    }
   ],
   "source": [
    "## filter with a lambda function\n",
    "\n",
    "numbers = [1,2,3,4,5,6,7,8]\n",
    "greater_than_five = list(filter(lambda number : number > 5, numbers))\n",
    "print(greater_than_five)"
   ]
  },
  {
   "cell_type": "code",
   "execution_count": 7,
   "id": "85f5036a",
   "metadata": {},
   "outputs": [
    {
     "name": "stdout",
     "output_type": "stream",
     "text": [
      "[6, 8]\n"
     ]
    }
   ],
   "source": [
    "## Filter with lambda function and multiple conditions\n",
    "numers = [1,2,3,4,5,6,7,8,9]\n",
    "even_and_greater_than_five = list(filter(lambda number : number > 5 and number %2 == 0, numbers))\n",
    "print(even_and_greater_than_five)"
   ]
  },
  {
   "cell_type": "code",
   "execution_count": 10,
   "id": "e2ae2c6e",
   "metadata": {},
   "outputs": [
    {
     "name": "stdout",
     "output_type": "stream",
     "text": [
      "[{'name': 'Krish', 'age': 32}]\n"
     ]
    }
   ],
   "source": [
    "## Filter() to check if the age is greate tha 30 in dictionaries\n",
    "people = [\n",
    "    {\n",
    "        'name': 'Jose Balbuena',\n",
    "        'age': 28\n",
    "    },\n",
    "    {\n",
    "        'name': 'Krish',\n",
    "        'age': 32\n",
    "    }\n",
    "]\n",
    "\n",
    "greater_than_thirty = list(filter(lambda person : person['age'] > 30, people))\n",
    "print(greater_than_thirty)"
   ]
  },
  {
   "cell_type": "markdown",
   "id": "de6b69d3",
   "metadata": {},
   "source": [
    "## The conclusion \n",
    "The filter() function is a powerful tool for creating iterators the filter items out of an iterable based on a functions. It is commonly used for data cleaning, filtering objects, and removing unwanted elements from lists. By mastering filter(), you can write more concise and efficient code for processing and manipulating collections in Python"
   ]
  }
 ],
 "metadata": {
  "kernelspec": {
   "display_name": "venv",
   "language": "python",
   "name": "python3"
  },
  "language_info": {
   "codemirror_mode": {
    "name": "ipython",
    "version": 3
   },
   "file_extension": ".py",
   "mimetype": "text/x-python",
   "name": "python",
   "nbconvert_exporter": "python",
   "pygments_lexer": "ipython3",
   "version": "3.10.18"
  }
 },
 "nbformat": 4,
 "nbformat_minor": 5
}
