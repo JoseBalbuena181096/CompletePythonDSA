{
 "cells": [
  {
   "cell_type": "markdown",
   "id": "12713dd8",
   "metadata": {},
   "source": [
    "## Functions in Python\n",
    "Video outline:\n",
    "1.  Introduction to functions\n",
    "2.  Defining functions\n",
    "3.  Calling functions\n",
    "4.  Functions parameters\n",
    "5.  Default parameters\n",
    "6.  Variable-Length arguments\n",
    "7.  Return statement\n",
    "\n",
    "### Introduction to Functions\n",
    "Definition:\n",
    "A functions is a block of code that performs a specific task. Functions help in organizing code, reusing code, and improving readability"
   ]
  },
  {
   "cell_type": "code",
   "execution_count": null,
   "id": "9b463cb8",
   "metadata": {},
   "outputs": [],
   "source": [
    "## syntax\n",
    "def function_name(parameters):\n",
    "    \"\"\" Docstring \"\"\"\n",
    "    ## Function body\n",
    "    return expression"
   ]
  },
  {
   "cell_type": "code",
   "execution_count": 1,
   "id": "224c2c82",
   "metadata": {},
   "outputs": [
    {
     "name": "stdout",
     "output_type": "stream",
     "text": [
      "the number is even\n"
     ]
    }
   ],
   "source": [
    "## why functions?\n",
    "num = 24\n",
    "if num % 2 == 0:\n",
    "    print(\"the number is even\")\n",
    "else:\n",
    "    print(\"the number is odd\")"
   ]
  },
  {
   "cell_type": "code",
   "execution_count": 2,
   "id": "5c2c21c0",
   "metadata": {},
   "outputs": [],
   "source": [
    "def even_or_odd(num):\n",
    "    \"\"\" This function finds even or odd \"\"\"\n",
    "    if num%2 == 0:\n",
    "        print(\"the number is even\")\n",
    "        return\n",
    "    print(\"The number is odd\")"
   ]
  },
  {
   "cell_type": "code",
   "execution_count": 4,
   "id": "ac54b563",
   "metadata": {},
   "outputs": [
    {
     "name": "stdout",
     "output_type": "stream",
     "text": [
      "The number is odd\n"
     ]
    }
   ],
   "source": [
    "## call this function\n",
    "even_or_odd(25)"
   ]
  },
  {
   "cell_type": "code",
   "execution_count": 6,
   "id": "2ade899c",
   "metadata": {},
   "outputs": [
    {
     "name": "stdout",
     "output_type": "stream",
     "text": [
      "14\n"
     ]
    }
   ],
   "source": [
    "## function with multiple parameters\n",
    "def add(a,b):\n",
    "    return a + b\n",
    "\n",
    "result = add(10, 4)\n",
    "print(result)"
   ]
  },
  {
   "cell_type": "code",
   "execution_count": 8,
   "id": "2f553e50",
   "metadata": {},
   "outputs": [
    {
     "name": "stdout",
     "output_type": "stream",
     "text": [
      "Hello Jose welcome to the paradise\n"
     ]
    }
   ],
   "source": [
    "# default parameters\n",
    "def greet(name=\"Jose\"):\n",
    "    print(f'Hello {name} welcome to the paradise')\n",
    "\n",
    "greet()"
   ]
  },
  {
   "cell_type": "code",
   "execution_count": 12,
   "id": "233d3912",
   "metadata": {},
   "outputs": [
    {
     "name": "stdout",
     "output_type": "stream",
     "text": [
      "1\n",
      "2\n",
      "3\n",
      "4\n",
      "5\n",
      "Jose\n"
     ]
    }
   ],
   "source": [
    "## variable length arguments\n",
    "## Positional and keywords arguments\n",
    "\n",
    "def print_numbers(*numbers):\n",
    "    for number in numbers:\n",
    "        print(number) \n",
    "    \n",
    "print_numbers(1,2,3,4,5, \"Jose\")\n"
   ]
  },
  {
   "cell_type": "code",
   "execution_count": 17,
   "id": "b158087e",
   "metadata": {},
   "outputs": [
    {
     "name": "stdout",
     "output_type": "stream",
     "text": [
      "1\n",
      "2\n",
      "3\n",
      "4\n",
      "5\n",
      "Jose\n"
     ]
    }
   ],
   "source": [
    "## Positional arguments\n",
    "\n",
    "def print_numbers(*args):\n",
    "    for number in args:\n",
    "        print(number) \n",
    "    \n",
    "print_numbers(1,2,3,4,5, \"Jose\")"
   ]
  },
  {
   "cell_type": "code",
   "execution_count": 18,
   "id": "ead2eae4",
   "metadata": {},
   "outputs": [
    {
     "name": "stdout",
     "output_type": "stream",
     "text": [
      "name - jose\n",
      "edad - 18\n",
      "genere - M\n"
     ]
    }
   ],
   "source": [
    "### keywords arguments\n",
    "def print_details(**kwargs):\n",
    "    for key,value in kwargs.items():\n",
    "        print(f\"{key} - {value}\")\n",
    "\n",
    "print_details(name=\"jose\", edad=18, genere=\"M\")"
   ]
  },
  {
   "cell_type": "code",
   "execution_count": 20,
   "id": "71ebe140",
   "metadata": {},
   "outputs": [
    {
     "name": "stdout",
     "output_type": "stream",
     "text": [
      "positional argument : 1\n",
      "positional argument : 2\n",
      "positional argument : 3\n",
      "positional argument : 4\n",
      "positional argument : 5\n",
      "name - jose\n",
      "edad - 28\n",
      "ciudad - Puebla\n"
     ]
    }
   ],
   "source": [
    "def print_details(*args, **kwargs):\n",
    "    for val in args:\n",
    "        print(f\"positional argument : {val}\")\n",
    "    for key, val in kwargs.items():\n",
    "        print(f\"{key} - {val}\")\n",
    "\n",
    "print_details(1,2,3,4,5,name=\"jose\", edad=28, ciudad=\"Puebla\")"
   ]
  },
  {
   "cell_type": "code",
   "execution_count": 21,
   "id": "2335e565",
   "metadata": {},
   "outputs": [
    {
     "name": "stdout",
     "output_type": "stream",
     "text": [
      "20\n"
     ]
    }
   ],
   "source": [
    "### return statements\n",
    "def multiply(a,b):\n",
    "    return a * b\n",
    "\n",
    "print(multiply(10,2))"
   ]
  },
  {
   "cell_type": "code",
   "execution_count": 22,
   "id": "e4cedcef",
   "metadata": {},
   "outputs": [
    {
     "name": "stdout",
     "output_type": "stream",
     "text": [
      "(20, 12, 5.0, 8)\n"
     ]
    }
   ],
   "source": [
    "### return multiple paramentes\n",
    "def calculate(a,b):\n",
    "    return a * b, a+b, a/b, a-b\n",
    "\n",
    "print(calculate(10,2))"
   ]
  }
 ],
 "metadata": {
  "kernelspec": {
   "display_name": "venv",
   "language": "python",
   "name": "python3"
  },
  "language_info": {
   "codemirror_mode": {
    "name": "ipython",
    "version": 3
   },
   "file_extension": ".py",
   "mimetype": "text/x-python",
   "name": "python",
   "nbconvert_exporter": "python",
   "pygments_lexer": "ipython3",
   "version": "3.10.18"
  }
 },
 "nbformat": 4,
 "nbformat_minor": 5
}
