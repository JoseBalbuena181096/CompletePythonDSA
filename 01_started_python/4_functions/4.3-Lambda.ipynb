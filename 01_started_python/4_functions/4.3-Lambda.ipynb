{
 "cells": [
  {
   "cell_type": "markdown",
   "id": "ed6fec45",
   "metadata": {},
   "source": [
    "## Lambda functions in python\n",
    "\n",
    "Lambda functions are small anonymous functions defined using the **lambda** keyword. They can have any number of arguments but only one expression. They are commonly used for short operations or as arguments to higher-order functions"
   ]
  },
  {
   "cell_type": "code",
   "execution_count": null,
   "id": "16e8b889",
   "metadata": {},
   "outputs": [],
   "source": [
    "# Syntax \n",
    "lambda arguments: expression"
   ]
  },
  {
   "cell_type": "code",
   "execution_count": 1,
   "id": "f50efb37",
   "metadata": {},
   "outputs": [
    {
     "data": {
      "text/plain": [
       "6"
      ]
     },
     "execution_count": 1,
     "metadata": {},
     "output_type": "execute_result"
    }
   ],
   "source": [
    "def addition(a,b):\n",
    "    return a + b\n",
    "\n",
    "addition(3, 3)"
   ]
  },
  {
   "cell_type": "code",
   "execution_count": 4,
   "id": "9c8a09a6",
   "metadata": {},
   "outputs": [
    {
     "name": "stdout",
     "output_type": "stream",
     "text": [
      "6\n",
      "<class 'function'>\n"
     ]
    }
   ],
   "source": [
    "addition  = lambda a,b : a + b\n",
    "print(addition(3,3))\n",
    "print(type(addition))"
   ]
  },
  {
   "cell_type": "code",
   "execution_count": 5,
   "id": "ae6bc618",
   "metadata": {},
   "outputs": [
    {
     "name": "stdout",
     "output_type": "stream",
     "text": [
      "True\n"
     ]
    }
   ],
   "source": [
    "def even(number):\n",
    "    return number % 2 == 0\n",
    "\n",
    "print(even(10))"
   ]
  },
  {
   "cell_type": "code",
   "execution_count": 6,
   "id": "b6dcc740",
   "metadata": {},
   "outputs": [
    {
     "name": "stdout",
     "output_type": "stream",
     "text": [
      "False\n"
     ]
    }
   ],
   "source": [
    "even_ = lambda number : number % 2 == 0\n",
    "print(even_(11))"
   ]
  },
  {
   "cell_type": "code",
   "execution_count": 7,
   "id": "3467a548",
   "metadata": {},
   "outputs": [
    {
     "name": "stdout",
     "output_type": "stream",
     "text": [
      "1110\n"
     ]
    }
   ],
   "source": [
    "def addition_(x, y, z):\n",
    "    return x + y + z\n",
    "print(addition_(10,100,1000)) "
   ]
  },
  {
   "cell_type": "code",
   "execution_count": 8,
   "id": "b36b0ba9",
   "metadata": {},
   "outputs": [
    {
     "name": "stdout",
     "output_type": "stream",
     "text": [
      "30\n"
     ]
    }
   ],
   "source": [
    "addition_ = lambda x,y,z : x + y + z\n",
    "print(addition_(10,10,10))"
   ]
  },
  {
   "cell_type": "code",
   "execution_count": 12,
   "id": "b6153c08",
   "metadata": {},
   "outputs": [
    {
     "name": "stdout",
     "output_type": "stream",
     "text": [
      "144\n"
     ]
    }
   ],
   "source": [
    "## map() applies a functions to all items in a list\n",
    "numbers = [1,2,3,4,5,6]\n",
    "def square(number):\n",
    "    return number ** 2\n",
    "\n",
    "print(square(12))"
   ]
  },
  {
   "cell_type": "code",
   "execution_count": 13,
   "id": "91d6becd",
   "metadata": {},
   "outputs": [
    {
     "name": "stdout",
     "output_type": "stream",
     "text": [
      "[1, 4, 9, 16, 25, 36]\n"
     ]
    }
   ],
   "source": [
    "numbers = list(map(lambda number: number ** 2, numbers))\n",
    "print(numbers)"
   ]
  },
  {
   "cell_type": "code",
   "execution_count": null,
   "id": "d8a284f2",
   "metadata": {},
   "outputs": [],
   "source": []
  }
 ],
 "metadata": {
  "kernelspec": {
   "display_name": "venv",
   "language": "python",
   "name": "python3"
  },
  "language_info": {
   "codemirror_mode": {
    "name": "ipython",
    "version": 3
   },
   "file_extension": ".py",
   "mimetype": "text/x-python",
   "name": "python",
   "nbconvert_exporter": "python",
   "pygments_lexer": "ipython3",
   "version": "3.10.18"
  }
 },
 "nbformat": 4,
 "nbformat_minor": 5
}
