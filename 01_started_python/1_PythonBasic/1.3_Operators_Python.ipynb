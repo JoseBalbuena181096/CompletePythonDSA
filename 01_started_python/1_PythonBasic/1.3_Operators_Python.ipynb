{
 "cells": [
  {
   "cell_type": "markdown",
   "id": "cea978b8",
   "metadata": {},
   "source": [
    "# Video Outline:\n",
    "1. Introduction\n",
    "2. Arithmetic Operators:\n",
    "    -   Addition\n",
    "    -   Subtraction\n",
    "    -   Multiplication\n",
    "    -   Division\n",
    "    -   Floor Division\n",
    "    -   Modulus\n",
    "    -   Exponentation\n",
    "\n",
    "3. Comparison Operators:\n",
    "    -   Equal to\n",
    "    -   No equal to\n",
    "    -   Greater than\n",
    "    -   Less than\n",
    "    -   Greater than or equal to\n",
    "    -   Less than or equal to\n",
    "4.  Logical Operators:\n",
    "    -   AND\n",
    "    -   OR\n",
    "    -   NOT \n",
    "5. Practical examples and commons errors\n"
   ]
  },
  {
   "cell_type": "code",
   "execution_count": 3,
   "id": "f2437aeb",
   "metadata": {},
   "outputs": [
    {
     "name": "stdout",
     "output_type": "stream",
     "text": [
      "15\n",
      "5\n",
      "50\n",
      "2.0\n",
      "2\n",
      "0\n",
      "100000\n"
     ]
    }
   ],
   "source": [
    "## Arithmethic Operation\n",
    "\n",
    "a = 10\n",
    "b = 5\n",
    "\n",
    "add_result = a + b # addition\n",
    "sub_result = a - b # subtraction\n",
    "mult_result = a * b # multiplication\n",
    "div_result = a / b # division\n",
    "floor_div_result = a // b # floor division\n",
    "modulus_result = a % b # modulus operation\n",
    "exponent_result = a ** b # Exponentiation\n",
    "\n",
    "print(add_result)\n",
    "print(sub_result)\n",
    "print(mult_result)\n",
    "print(div_result)\n",
    "print(floor_div_result)\n",
    "print(modulus_result)\n",
    "print(exponent_result)"
   ]
  },
  {
   "cell_type": "code",
   "execution_count": 4,
   "id": "fea6260c",
   "metadata": {},
   "outputs": [
    {
     "data": {
      "text/plain": [
       "2.0"
      ]
     },
     "execution_count": 4,
     "metadata": {},
     "output_type": "execute_result"
    }
   ],
   "source": [
    "10/5"
   ]
  },
  {
   "cell_type": "code",
   "execution_count": 5,
   "id": "1ac95f49",
   "metadata": {},
   "outputs": [
    {
     "data": {
      "text/plain": [
       "5"
      ]
     },
     "execution_count": 5,
     "metadata": {},
     "output_type": "execute_result"
    }
   ],
   "source": [
    "21//4"
   ]
  },
  {
   "cell_type": "markdown",
   "id": "64341df4",
   "metadata": {},
   "source": [
    "### Comparison operators"
   ]
  },
  {
   "cell_type": "code",
   "execution_count": null,
   "id": "35cdc2fc",
   "metadata": {},
   "outputs": [
    {
     "name": "stdout",
     "output_type": "stream",
     "text": [
      "True\n"
     ]
    }
   ],
   "source": [
    "\n",
    "\n",
    "## == equal comparison\n",
    "a = 10\n",
    "b = 10\n",
    "print(a == b)\n"
   ]
  },
  {
   "cell_type": "code",
   "execution_count": 7,
   "id": "648eaea5",
   "metadata": {},
   "outputs": [
    {
     "name": "stdout",
     "output_type": "stream",
     "text": [
      "False\n"
     ]
    }
   ],
   "source": [
    "str1 = \"Jose\"\n",
    "str2 = \"jose\"\n",
    "print(str1 == str2)"
   ]
  },
  {
   "cell_type": "code",
   "execution_count": 8,
   "id": "f07e9f4c",
   "metadata": {},
   "outputs": [
    {
     "data": {
      "text/plain": [
       "True"
      ]
     },
     "execution_count": 8,
     "metadata": {},
     "output_type": "execute_result"
    }
   ],
   "source": [
    "## Not equal to != \n",
    "str1 != str2"
   ]
  },
  {
   "cell_type": "code",
   "execution_count": null,
   "id": "cd0306aa",
   "metadata": {},
   "outputs": [
    {
     "data": {
      "text/plain": [
       "False"
      ]
     },
     "execution_count": 9,
     "metadata": {},
     "output_type": "execute_result"
    }
   ],
   "source": [
    "# greater than  >\n",
    "num1 = 45\n",
    "num2 = 55\n",
    "\n",
    "num1 > num2"
   ]
  },
  {
   "cell_type": "code",
   "execution_count": 10,
   "id": "024687a0",
   "metadata": {},
   "outputs": [
    {
     "data": {
      "text/plain": [
       "False"
      ]
     },
     "execution_count": 10,
     "metadata": {},
     "output_type": "execute_result"
    }
   ],
   "source": [
    "## less than <\n",
    "\n",
    "num1 = 50\n",
    "num2 = 45\n",
    "\n",
    "num1 < num2"
   ]
  },
  {
   "cell_type": "code",
   "execution_count": 11,
   "id": "4375d0d3",
   "metadata": {},
   "outputs": [
    {
     "data": {
      "text/plain": [
       "True"
      ]
     },
     "execution_count": 11,
     "metadata": {},
     "output_type": "execute_result"
    }
   ],
   "source": [
    "# greater than or equal to\n",
    "num1 = 35\n",
    "num2 = 35\n",
    "num1 >= num2"
   ]
  },
  {
   "cell_type": "code",
   "execution_count": 12,
   "id": "b2546f53",
   "metadata": {},
   "outputs": [
    {
     "data": {
      "text/plain": [
       "True"
      ]
     },
     "execution_count": 12,
     "metadata": {},
     "output_type": "execute_result"
    }
   ],
   "source": [
    "# less than or equal to\n",
    "num1 = 31\n",
    "num2 = 35\n",
    "num1 <= num2"
   ]
  },
  {
   "cell_type": "markdown",
   "id": "d511ac7d",
   "metadata": {},
   "source": [
    "### Logical operators"
   ]
  },
  {
   "cell_type": "code",
   "execution_count": 14,
   "id": "a3e5a268",
   "metadata": {},
   "outputs": [
    {
     "name": "stdout",
     "output_type": "stream",
     "text": [
      "True\n"
     ]
    }
   ],
   "source": [
    "## And, Not, Or\n",
    "\n",
    "# And both values should be tTrue , to the result will be True \n",
    "X = True\n",
    "Y = True\n",
    "\n",
    "result = X and Y\n",
    "print(result)"
   ]
  },
  {
   "cell_type": "code",
   "execution_count": 16,
   "id": "0fd53c35",
   "metadata": {},
   "outputs": [
    {
     "name": "stdout",
     "output_type": "stream",
     "text": [
      "True\n"
     ]
    }
   ],
   "source": [
    "# Or one of the both values should be True , to the result will be True \n",
    "X = True\n",
    "Y = False\n",
    "\n",
    "result = X or Y\n",
    "print(result)"
   ]
  },
  {
   "cell_type": "code",
   "execution_count": 17,
   "id": "371d2094",
   "metadata": {},
   "outputs": [
    {
     "name": "stdout",
     "output_type": "stream",
     "text": [
      "False\n"
     ]
    }
   ],
   "source": [
    "# Not operator is the reverse of the boolean value is True with Not will be False\n",
    "X = True\n",
    "result = not X\n",
    "print(result) "
   ]
  },
  {
   "cell_type": "code",
   "execution_count": 18,
   "id": "906be9a4",
   "metadata": {},
   "outputs": [
    {
     "name": "stdout",
     "output_type": "stream",
     "text": [
      "Addition:  22.0\n",
      "Subtraction:  -2.0\n",
      "Multiplication:  120.0\n",
      "Division:  0.8333333333333334\n",
      "Floor Division:  0.0\n",
      "Modulus:  10.0\n",
      "Exponentation:  1000000000000.0\n"
     ]
    }
   ],
   "source": [
    "## Simpler calculator\n",
    "num1 = float(input(\"Enter first numer: \"))\n",
    "num2 = float(input(\"Enter second numer: \"))\n",
    "\n",
    "# performing arithmetic operations\n",
    "addition = num1 + num2\n",
    "subtraction = num1 - num2\n",
    "multiplication = num1 * num2\n",
    "division = num1 / num2\n",
    "floor_division = num1 // num2\n",
    "modulus = num1 % num2\n",
    "exponentation = num1 ** num2\n",
    "\n",
    "# display  results\n",
    "print(\"Addition: \", addition)\n",
    "print(\"Subtraction: \", subtraction)\n",
    "print(\"Multiplication: \", multiplication)\n",
    "print(\"Division: \", division)\n",
    "print(\"Floor Division: \", floor_division)\n",
    "print(\"Modulus: \", modulus)\n",
    "print(\"Exponentation: \", exponentation)"
   ]
  }
 ],
 "metadata": {
  "kernelspec": {
   "display_name": "venv",
   "language": "python",
   "name": "python3"
  },
  "language_info": {
   "codemirror_mode": {
    "name": "ipython",
    "version": 3
   },
   "file_extension": ".py",
   "mimetype": "text/x-python",
   "name": "python",
   "nbconvert_exporter": "python",
   "pygments_lexer": "ipython3",
   "version": "3.10.18"
  }
 },
 "nbformat": 4,
 "nbformat_minor": 5
}
