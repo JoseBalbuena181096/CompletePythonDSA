{
 "cells": [
  {
   "cell_type": "markdown",
   "id": "88cf6b79",
   "metadata": {},
   "source": [
    "# Variables\n",
    "\n",
    "Variables are fundamental elements in programming used to store data can be referenced and manipulated in a program. In Python, variables are created when you assing a value to them, and they do not need explicit declaration to reserve memory space. The declaration happens automatically when you assing a value to a variable.\n",
    "\n",
    "Video Outline:\n",
    "-   Introduction to Variables\n",
    "-   Declaring and assigning variables\n",
    "-   Naming Conventions\n",
    "-   Understanding varible types\n",
    "-   Type checking and conversion\n",
    "-   Dynamic Typing\n",
    "-   Practical Examples and common errors\n"
   ]
  },
  {
   "cell_type": "code",
   "execution_count": 2,
   "id": "0ba7846f",
   "metadata": {},
   "outputs": [
    {
     "name": "stdout",
     "output_type": "stream",
     "text": [
      "100\n"
     ]
    }
   ],
   "source": [
    "a = 100\n",
    "print(a)"
   ]
  },
  {
   "cell_type": "code",
   "execution_count": 5,
   "id": "35cb8bd6",
   "metadata": {},
   "outputs": [
    {
     "name": "stdout",
     "output_type": "stream",
     "text": [
      "age  28\n",
      "height  1.75\n",
      "name  Jose\n",
      "is_student  True\n"
     ]
    }
   ],
   "source": [
    "## Declaring and assingninf variables\n",
    "age = 28\n",
    "height = 1.75\n",
    "name = \"Jose\"\n",
    "is_student = True\n",
    "\n",
    "## printing variables\n",
    "print(\"age \", age)\n",
    "print(\"height \", height)\n",
    "print(\"name \", name)\n",
    "print(\"is_student \", is_student)\n",
    "\n",
    "\n"
   ]
  },
  {
   "cell_type": "code",
   "execution_count": 6,
   "id": "aae900e7",
   "metadata": {},
   "outputs": [],
   "source": [
    "  # naming conventions\n",
    "  ##  variables name should be descriptive\n",
    "  ## they must start with a letter or an '_' and contain letter, numbers and underscores\n",
    "  ## variables names case sensitive\n",
    "\n",
    "  # valid variables names \n",
    "  first_name = \"Jose\"\n",
    "  second_name = \"Balbuena\""
   ]
  },
  {
   "cell_type": "code",
   "execution_count": null,
   "id": "e236e0a0",
   "metadata": {},
   "outputs": [
    {
     "ename": "SyntaxError",
     "evalue": "invalid syntax. Maybe you meant '==' or ':=' instead of '='? (3511673858.py, line 4)",
     "output_type": "error",
     "traceback": [
      "\u001b[1;36m  Cell \u001b[1;32mIn[9], line 4\u001b[1;36m\u001b[0m\n\u001b[1;33m    @name = \"Ary\"\u001b[0m\n\u001b[1;37m     ^\u001b[0m\n\u001b[1;31mSyntaxError\u001b[0m\u001b[1;31m:\u001b[0m invalid syntax. Maybe you meant '==' or ':=' instead of '='?\n"
     ]
    }
   ],
   "source": [
    "# invalided variable names\n",
    "# 2name = \"Jorge\"\n",
    "# firts-name = \"Perez\"\n",
    "# @name = \"Ary\""
   ]
  },
  {
   "cell_type": "code",
   "execution_count": 12,
   "id": "93ac69bd",
   "metadata": {},
   "outputs": [
    {
     "name": "stdout",
     "output_type": "stream",
     "text": [
      "Jorge\n",
      "Jose\n"
     ]
    }
   ],
   "source": [
    "## case sensitivity\n",
    "name = \"Jorge\"\n",
    "Name = \"Jose\"\n",
    "\n",
    "print(name)\n",
    "print(Name)"
   ]
  },
  {
   "cell_type": "code",
   "execution_count": 15,
   "id": "aa032b3c",
   "metadata": {},
   "outputs": [
    {
     "name": "stdout",
     "output_type": "stream",
     "text": [
      "<class 'str'>\n"
     ]
    }
   ],
   "source": [
    "## Understanding variables types\n",
    "## Python is dynamically typed, type of a variable is determined at runtime\n",
    "\n",
    "age = 25 # int\n",
    "height = 6.1 # float\n",
    "name = 'Jose' #str\n",
    "print(type(name))"
   ]
  },
  {
   "cell_type": "code",
   "execution_count": 16,
   "id": "905cfffd",
   "metadata": {},
   "outputs": [
    {
     "data": {
      "text/plain": [
       "float"
      ]
     },
     "execution_count": 16,
     "metadata": {},
     "output_type": "execute_result"
    }
   ],
   "source": [
    "## Type checkig and conversion\n",
    "\n",
    "type(height)"
   ]
  },
  {
   "cell_type": "code",
   "execution_count": 18,
   "id": "ab9f7c14",
   "metadata": {},
   "outputs": [
    {
     "name": "stdout",
     "output_type": "stream",
     "text": [
      "<class 'int'>\n",
      "<class 'str'>\n",
      "<class 'int'>\n"
     ]
    }
   ],
   "source": [
    "# convert age from int to str\n",
    "\n",
    "age = 28\n",
    "print(type(age))\n",
    "\n",
    "# Type conversion\n",
    "age_str = str(age)\n",
    "print(type(age_str))\n",
    "\n",
    "# reconvert\n",
    "print(type(int(age_str)))"
   ]
  },
  {
   "cell_type": "code",
   "execution_count": 19,
   "id": "64d556ab",
   "metadata": {},
   "outputs": [
    {
     "ename": "ValueError",
     "evalue": "invalid literal for int() with base 10: 'Jose'",
     "output_type": "error",
     "traceback": [
      "\u001b[1;31m---------------------------------------------------------------------------\u001b[0m",
      "\u001b[1;31mValueError\u001b[0m                                Traceback (most recent call last)",
      "Cell \u001b[1;32mIn[19], line 3\u001b[0m\n\u001b[0;32m      1\u001b[0m \u001b[38;5;66;03m## error convert type\u001b[39;00m\n\u001b[0;32m      2\u001b[0m name \u001b[38;5;241m=\u001b[39m \u001b[38;5;124m\"\u001b[39m\u001b[38;5;124mJose\u001b[39m\u001b[38;5;124m\"\u001b[39m\n\u001b[1;32m----> 3\u001b[0m \u001b[38;5;28;43mint\u001b[39;49m\u001b[43m(\u001b[49m\u001b[43mname\u001b[49m\u001b[43m)\u001b[49m\n",
      "\u001b[1;31mValueError\u001b[0m: invalid literal for int() with base 10: 'Jose'"
     ]
    }
   ],
   "source": [
    "## error convert type\n",
    "name = \"Jose\"\n",
    "int(name)"
   ]
  },
  {
   "cell_type": "code",
   "execution_count": null,
   "id": "6b12ff25",
   "metadata": {},
   "outputs": [
    {
     "data": {
      "text/plain": [
       "float"
      ]
     },
     "execution_count": 21,
     "metadata": {},
     "output_type": "execute_result"
    }
   ],
   "source": [
    "height = 5.1\n",
    "type(height)"
   ]
  },
  {
   "cell_type": "code",
   "execution_count": 22,
   "id": "00a97ed7",
   "metadata": {},
   "outputs": [
    {
     "data": {
      "text/plain": [
       "5"
      ]
     },
     "execution_count": 22,
     "metadata": {},
     "output_type": "execute_result"
    }
   ],
   "source": [
    "int(height)"
   ]
  },
  {
   "cell_type": "code",
   "execution_count": 23,
   "id": "c79ace65",
   "metadata": {},
   "outputs": [
    {
     "data": {
      "text/plain": [
       "5.0"
      ]
     },
     "execution_count": 23,
     "metadata": {},
     "output_type": "execute_result"
    }
   ],
   "source": [
    "float(int(height))"
   ]
  },
  {
   "cell_type": "code",
   "execution_count": 26,
   "id": "c15ec8ed",
   "metadata": {},
   "outputs": [
    {
     "name": "stdout",
     "output_type": "stream",
     "text": [
      "10   <class 'int'>\n",
      "Hello   <class 'str'>\n",
      "4.2   <class 'float'>\n"
     ]
    }
   ],
   "source": [
    "## Dynamic Typing\n",
    "## Python allows the type of a variable changes as the programan executes\n",
    "var = 10\n",
    "print(var, \" \", type(var))\n",
    "\n",
    "var = \"Hello\"\n",
    "print(var, \" \", type(var))\n",
    "\n",
    "var = 4.2\n",
    "print(var, \" \", type(var))"
   ]
  },
  {
   "cell_type": "code",
   "execution_count": 28,
   "id": "a34db66d",
   "metadata": {},
   "outputs": [
    {
     "name": "stdout",
     "output_type": "stream",
     "text": [
      "13 <class 'int'>\n"
     ]
    }
   ],
   "source": [
    "## input \n",
    "\n",
    "# age = input(\"What is the age\")\n",
    "# print(age)\n",
    "\n",
    "age = int(input(\"What is the age\"))\n",
    "print(age, type(age))"
   ]
  },
  {
   "cell_type": "code",
   "execution_count": 29,
   "id": "75e6b1f0",
   "metadata": {},
   "outputs": [
    {
     "name": "stdout",
     "output_type": "stream",
     "text": [
      "Sum  22.0\n",
      "Difference  -2.0\n",
      "Product  120.0\n",
      "Quotient  0.8333333333333334\n"
     ]
    }
   ],
   "source": [
    "## simple calculator\n",
    "\n",
    "num1 = float(input(\"Enter first number: \"))\n",
    "num2 = float(input(\"Enter second number: \"))\n",
    "\n",
    "sum_ = num1 + num2\n",
    "difference = num1 - num2\n",
    "product =  num1 * num2\n",
    "quotient = num1 / num2\n",
    "\n",
    "print(\"Sum \", sum_)\n",
    "print(\"Difference \", difference)\n",
    "print(\"Product \", product)\n",
    "print(\"Quotient \", quotient)"
   ]
  }
 ],
 "metadata": {
  "kernelspec": {
   "display_name": "venv",
   "language": "python",
   "name": "python3"
  },
  "language_info": {
   "codemirror_mode": {
    "name": "ipython",
    "version": 3
   },
   "file_extension": ".py",
   "mimetype": "text/x-python",
   "name": "python",
   "nbconvert_exporter": "python",
   "pygments_lexer": "ipython3",
   "version": "3.10.18"
  }
 },
 "nbformat": 4,
 "nbformat_minor": 5
}
