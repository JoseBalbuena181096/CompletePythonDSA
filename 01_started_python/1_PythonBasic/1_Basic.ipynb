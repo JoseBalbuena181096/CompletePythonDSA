{
 "cells": [
  {
   "cell_type": "markdown",
   "id": "515e3a26",
   "metadata": {},
   "source": [
    "### Syntax and semantics in Python\n",
    "Video Outline\n",
    "- Single line Comments and multiline comments\n",
    "- Definition of syntax and semantics\n",
    "- Basic syntax rules in python\n",
    "- Undertanding semantics in python\n",
    "- Common syntax errors and how to avoid them\n",
    "- Pratical code examples\n",
    "\n",
    "Syntax refers to set of rules tha defines the combinations of symbols that are considered to be correctly structured programs in a lenguage. In smple terms, syntax is about the correct arrangement of words and symbols in a code.\n",
    "\n",
    "Semantics refers to the meaning or the interpretation of the symbols, characters, and commands in a lenguage. It is about what the code is supposed to do when it runs.\n"
   ]
  },
  {
   "cell_type": "code",
   "execution_count": 2,
   "id": "d71ca019",
   "metadata": {},
   "outputs": [
    {
     "data": {
      "text/plain": [
       "'\\nThis is a example of multiline comments\\nWelcome to the \\nPython Course\\n'"
      ]
     },
     "execution_count": 2,
     "metadata": {},
     "output_type": "execute_result"
    }
   ],
   "source": [
    "\n",
    "## this is a single line comment\n",
    "\n",
    "'''\n",
    "This is a example of multiline comments\n",
    "Welcome to the \n",
    "Python Course\n",
    "'''"
   ]
  },
  {
   "cell_type": "code",
   "execution_count": null,
   "id": "eb141c33",
   "metadata": {},
   "outputs": [
    {
     "name": "stdout",
     "output_type": "stream",
     "text": [
      "Jose\n",
      "Jose Angel\n"
     ]
    }
   ],
   "source": [
    "### Basic syntax Rules in Python\n",
    "\n",
    "## Case sensitivity - Python is case sensitive\n",
    "\n",
    "name = \"Jose\"\n",
    "Name = \"Jose Angel\"\n",
    "print(name)\n",
    "print(Name)\n",
    "# Both variables are different identificator"
   ]
  },
  {
   "cell_type": "markdown",
   "id": "badc3588",
   "metadata": {},
   "source": [
    "### Identation\n",
    "\n",
    "Identation in Python is used to define the structure and hierarchy of the code. Unlike many other programming languages tha uses braces {} to delimit blocks of code, Python uses identation to determine the grouping of statements. This means that all the statements within a block must be idented at the same lavel.\n",
    "\n"
   ]
  },
  {
   "cell_type": "code",
   "execution_count": 5,
   "id": "7961eeaf",
   "metadata": {},
   "outputs": [
    {
     "name": "stdout",
     "output_type": "stream",
     "text": [
      "You are old with  32  years\n"
     ]
    }
   ],
   "source": [
    "## Identetation\n",
    "## Python uses identation to define blocks of code. Consistent use of spaces (commonly 4) \n",
    "# or a tab is requiered.\n",
    "\n",
    "age = 32\n",
    "if age > 30:\n",
    "    print(\"You are old with \", age, \" years\")\n"
   ]
  },
  {
   "cell_type": "code",
   "execution_count": 6,
   "id": "2fb06645",
   "metadata": {},
   "outputs": [
    {
     "name": "stdout",
     "output_type": "stream",
     "text": [
      "Hello word\n"
     ]
    }
   ],
   "source": [
    "## this is a single line comment\n",
    "print(\"Hello word\")"
   ]
  },
  {
   "cell_type": "code",
   "execution_count": null,
   "id": "d53248df",
   "metadata": {},
   "outputs": [
    {
     "name": "stdout",
     "output_type": "stream",
     "text": [
      "45\n"
     ]
    }
   ],
   "source": [
    "## Line continuation\n",
    "## Use a backslash (\\) to continue a statement to the next line\n",
    "total =  1+2+3+4+5+6+ \\\n",
    "    7+8+9\n",
    "print(total)  "
   ]
  },
  {
   "cell_type": "code",
   "execution_count": 8,
   "id": "dd9faef5",
   "metadata": {},
   "outputs": [
    {
     "name": "stdout",
     "output_type": "stream",
     "text": [
      "15\n"
     ]
    }
   ],
   "source": [
    "## Multiple statements on a single line\n",
    "x=5;y=10;z=x+y\n",
    "print(z)"
   ]
  },
  {
   "cell_type": "code",
   "execution_count": null,
   "id": "a9def850",
   "metadata": {},
   "outputs": [
    {
     "name": "stdout",
     "output_type": "stream",
     "text": [
      "<class 'int'>\n",
      "<class 'str'>\n"
     ]
    }
   ],
   "source": [
    "## Undestand semnatics in python\n",
    "\n",
    "# variable assigment\n",
    "age = 32 ## age is a integer \n",
    "name = \"Jose\" ## name is a string\n",
    "\n",
    "## Type inference , dynamic type\n",
    "print(type(age))\n",
    "print(type(name))\n",
    "\n",
    "\n"
   ]
  },
  {
   "cell_type": "code",
   "execution_count": 11,
   "id": "f9037177",
   "metadata": {},
   "outputs": [
    {
     "name": "stdout",
     "output_type": "stream",
     "text": [
      "<class 'int'>\n",
      "<class 'str'>\n"
     ]
    }
   ],
   "source": [
    "## Type Inference\n",
    "variable = 10\n",
    "print(type(variable))\n",
    "variable = 'Jose'\n",
    "print(type(variable))\n",
    "\n"
   ]
  },
  {
   "cell_type": "code",
   "execution_count": 12,
   "id": "79475954",
   "metadata": {},
   "outputs": [
    {
     "ename": "IndentationError",
     "evalue": "expected an indented block after 'if' statement on line 2 (3937145210.py, line 3)",
     "output_type": "error",
     "traceback": [
      "\u001b[1;36m  Cell \u001b[1;32mIn[12], line 3\u001b[1;36m\u001b[0m\n\u001b[1;33m    print(age)\u001b[0m\n\u001b[1;37m    ^\u001b[0m\n\u001b[1;31mIndentationError\u001b[0m\u001b[1;31m:\u001b[0m expected an indented block after 'if' statement on line 2\n"
     ]
    }
   ],
   "source": [
    "age =  32\n",
    "if age > 30:\n",
    "print(age)"
   ]
  },
  {
   "cell_type": "code",
   "execution_count": 14,
   "id": "0c8749ea",
   "metadata": {},
   "outputs": [
    {
     "ename": "NameError",
     "evalue": "name 'b' is not defined",
     "output_type": "error",
     "traceback": [
      "\u001b[1;31m---------------------------------------------------------------------------\u001b[0m",
      "\u001b[1;31mNameError\u001b[0m                                 Traceback (most recent call last)",
      "Cell \u001b[1;32mIn[14], line 2\u001b[0m\n\u001b[0;32m      1\u001b[0m \u001b[38;5;66;03m## Name Error \u001b[39;00m\n\u001b[1;32m----> 2\u001b[0m a \u001b[38;5;241m=\u001b[39m \u001b[43mb\u001b[49m\n",
      "\u001b[1;31mNameError\u001b[0m: name 'b' is not defined"
     ]
    }
   ],
   "source": [
    "## Name Error \n",
    "a = b"
   ]
  },
  {
   "cell_type": "code",
   "execution_count": 17,
   "id": "7bb70c24",
   "metadata": {},
   "outputs": [
    {
     "name": "stdout",
     "output_type": "stream",
     "text": [
      "Correct Identation\n",
      "This will print\n",
      "Outside the if block\n"
     ]
    }
   ],
   "source": [
    "## Code example of identation\n",
    "if True:\n",
    "    print(\"Correct Identation\")\n",
    "    if False:\n",
    "        print(\"This ont print\")\n",
    "    print(\"This will print\")\n",
    "print(\"Outside the if block\")"
   ]
  }
 ],
 "metadata": {
  "kernelspec": {
   "display_name": "venv",
   "language": "python",
   "name": "python3"
  },
  "language_info": {
   "codemirror_mode": {
    "name": "ipython",
    "version": 3
   },
   "file_extension": ".py",
   "mimetype": "text/x-python",
   "name": "python",
   "nbconvert_exporter": "python",
   "pygments_lexer": "ipython3",
   "version": "3.10.18"
  }
 },
 "nbformat": 4,
 "nbformat_minor": 5
}
