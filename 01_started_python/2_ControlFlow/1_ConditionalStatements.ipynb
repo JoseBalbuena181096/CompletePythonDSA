{
 "cells": [
  {
   "cell_type": "markdown",
   "id": "9742bec3",
   "metadata": {},
   "source": [
    "## Conditional Statements (if, elif, else)\n",
    "\n",
    "Video Outline:\n",
    "1.  Introduction to Conditional Statements\n",
    "2.  if Statement\n",
    "3.  else Statement\n",
    "4.  elif Statement\n",
    "5.  Nested Conditional Statements\n",
    "6.  Practical Examples\n",
    "7.  Common errors and best practices"
   ]
  },
  {
   "cell_type": "code",
   "execution_count": 1,
   "id": "0454617c",
   "metadata": {},
   "outputs": [
    {
     "name": "stdout",
     "output_type": "stream",
     "text": [
      "You are allowed to vote in the elections\n"
     ]
    }
   ],
   "source": [
    "## if statement \n",
    "\n",
    "age = 20\n",
    "\n",
    "if age >= 18:\n",
    "    print(\"You are allowed to vote in the elections\")\n"
   ]
  },
  {
   "cell_type": "code",
   "execution_count": 2,
   "id": "5afae6ed",
   "metadata": {},
   "outputs": [
    {
     "data": {
      "text/plain": [
       "True"
      ]
     },
     "execution_count": 2,
     "metadata": {},
     "output_type": "execute_result"
    }
   ],
   "source": [
    "age >= 18"
   ]
  },
  {
   "cell_type": "code",
   "execution_count": 5,
   "id": "ba216d96",
   "metadata": {},
   "outputs": [
    {
     "name": "stdout",
     "output_type": "stream",
     "text": [
      "You are minor\n"
     ]
    }
   ],
   "source": [
    "# else\n",
    "# The else statement executes a block of code if the condition in the if statements is False.\n",
    "\n",
    "age = 16\n",
    "\n",
    "if age >= 18:\n",
    "    print(\"You are eligible for voting\")\n",
    "else:\n",
    "    print(\"You are minor\")\n"
   ]
  },
  {
   "cell_type": "code",
   "execution_count": 6,
   "id": "209729cc",
   "metadata": {},
   "outputs": [
    {
     "name": "stdout",
     "output_type": "stream",
     "text": [
      "You are an adult\n"
     ]
    }
   ],
   "source": [
    "## elif\n",
    "## The elif statements allows you check multiple conditions. It stands for \"else if\"\n",
    "\n",
    "age = 20\n",
    "\n",
    "if age < 13:\n",
    "    print(\"You are a child\")\n",
    "elif age < 18:\n",
    "    print(\"You are a teenager\")\n",
    "else:\n",
    "    print(\"You are an adult\")"
   ]
  },
  {
   "cell_type": "code",
   "execution_count": 9,
   "id": "0aafb382",
   "metadata": {},
   "outputs": [
    {
     "name": "stdout",
     "output_type": "stream",
     "text": [
      "The number is negative\n"
     ]
    }
   ],
   "source": [
    "# Nested conditional statements\n",
    "\n",
    "# You can place one or more if, elif or else statements inside another if, elif, or else statements to create nested conditional statements.\n",
    "\n",
    "# number even, odd, negative\n",
    "\n",
    "num = int(input(\"Enter number\"))\n",
    "\n",
    "if num >= 0:\n",
    "    print(\"The number is positive\")\n",
    "    if num % 2 == 0:\n",
    "        print(\"The number is even\")\n",
    "    else:\n",
    "        print(\"The number is odd\")\n",
    "else:\n",
    "    print(\"The number is negative\")"
   ]
  },
  {
   "cell_type": "code",
   "execution_count": 10,
   "id": "f417d400",
   "metadata": {},
   "outputs": [
    {
     "name": "stdout",
     "output_type": "stream",
     "text": [
      "The year  2022  is not leap\n"
     ]
    }
   ],
   "source": [
    "# Practical examples\n",
    "## Determine if a year is leap using nested condition statement\n",
    "\n",
    "year = int(input(\"What year is?\"))\n",
    "\n",
    "if year % 4 == 0:\n",
    "    if year % 100 == 0:\n",
    "        if year % 400 == 0:\n",
    "            print(\"The year \", year, \" is leap\")\n",
    "        else:\n",
    "            print(\"The year \", year, \" is not leap\")\n",
    "    else:\n",
    "        print(\"The year \", year, \" is leap\")\n",
    "else:\n",
    "     print(\"The year \", year, \" is not leap\")"
   ]
  },
  {
   "cell_type": "code",
   "execution_count": 12,
   "id": "6ddf0b04",
   "metadata": {},
   "outputs": [
    {
     "name": "stdout",
     "output_type": "stream",
     "text": [
      "Result:  20.0\n"
     ]
    }
   ],
   "source": [
    "## Assighment\n",
    "## Simple calulator program\n",
    "# Take user input\n",
    "\n",
    "num1 = float(input(\"Enter first number: \"))\n",
    "num2 = float(input(\"Enter second number: \"))\n",
    "\n",
    "operation = input(\"Enter operation (+,-,*,/): \")\n",
    "\n",
    "# Perform the requested operation\n",
    "if operation == \"+\":\n",
    "    result = num1 + num2\n",
    "elif operation == '-':\n",
    "    result = num1 + num2\n",
    "elif operation == \"*\":\n",
    "    result = num1 * num2\n",
    "elif operation == \"/\":\n",
    "    if num2 != 0:\n",
    "        result = num1 / num2\n",
    "    else:\n",
    "        result = \"Error! Division by zero\"\n",
    "else:\n",
    "    result = \"Invalid operation\"\n",
    "\n",
    "\n",
    "print(\"Result: \", result)\n",
    "\n",
    "\n"
   ]
  },
  {
   "cell_type": "code",
   "execution_count": 13,
   "id": "5bc8ea37",
   "metadata": {},
   "outputs": [
    {
     "name": "stdout",
     "output_type": "stream",
     "text": [
      "Ticket price:  $25\n"
     ]
    }
   ],
   "source": [
    "### Determine the ticket price based on age and whether the person is a student.\n",
    "\n",
    "# take user input \n",
    "age = int(input(\"Enter your age: \"))\n",
    "is_student = input(\"Are you a student? (yes/no)\").lower()\n",
    "\n",
    "# Determine ticket price\n",
    "if age < 5:\n",
    "    price = \"Free\"\n",
    "elif age <= 12:\n",
    "    print(\"$10\")\n",
    "elif age <= 17:\n",
    "    if is_student == \"yes\":\n",
    "        price = \"$12\"\n",
    "    else:\n",
    "        price = \"$15\"\n",
    "elif age <= 64:\n",
    "    if is_student == 'yes':\n",
    "        price = \"$18\"\n",
    "    else:\n",
    "        price = \"$25\"\n",
    "else:\n",
    "    price = \"$20\"\n",
    "\n",
    "print(\"Ticket price: \", price)\n",
    "\n",
    "\n",
    "    "
   ]
  }
 ],
 "metadata": {
  "kernelspec": {
   "display_name": "venv",
   "language": "python",
   "name": "python3"
  },
  "language_info": {
   "codemirror_mode": {
    "name": "ipython",
    "version": 3
   },
   "file_extension": ".py",
   "mimetype": "text/x-python",
   "name": "python",
   "nbconvert_exporter": "python",
   "pygments_lexer": "ipython3",
   "version": "3.10.18"
  }
 },
 "nbformat": 4,
 "nbformat_minor": 5
}
